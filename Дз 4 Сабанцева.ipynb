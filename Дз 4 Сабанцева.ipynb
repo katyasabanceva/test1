{
 "cells": [
  {
   "cell_type": "code",
   "execution_count": null,
   "id": "6935c421",
   "metadata": {},
   "outputs": [],
   "source": [
    "\n",
    "            "
   ]
  },
  {
   "cell_type": "code",
   "execution_count": null,
   "id": "d1b83019",
   "metadata": {},
   "outputs": [
    {
     "name": "stdout",
     "output_type": "stream",
     "text": [
      "Введите команду:\n",
      "ds\n",
      "Введите номер полки\n",
      "2\n",
      "На полке есть документы, удалите их перед удалением полки.Текущий перечень полок: 1,2,3.\n",
      "Введите команду:\n",
      "ads\n",
      "Введите номер полки\n",
      "1\n",
      "Такая полка уже существует. Текущий перечень полок: 1,2,3.\n",
      "Введите команду:\n"
     ]
    }
   ],
   "source": [
    "documents = [\n",
    "{'type': 'passport', 'number': '2207 876234', 'name': 'Василий Гупкин'},\n",
    "{'type': 'invoice', 'number': '11-2', 'name': 'Геннадий Покемонов'},\n",
    "{'type': 'insurance', 'number': '10006', 'name': 'Аристарх Павлов'}\n",
    "]\n",
    "directories = {\n",
    "'1': ['2207 876234', '11-2'],\n",
    "'2': ['10006'],\n",
    "'3': []\n",
    "}\n",
    "\n",
    "#Пункт 1\n",
    "def dialog():\n",
    "    while True:\n",
    "        print('Введите команду:')\n",
    "        com = input()\n",
    "        if com  == 'p':\n",
    "            num_doc(com)\n",
    "        elif com == 's':\n",
    "            num_doc(com)\n",
    "        elif com == 'l':\n",
    "            info_all()\n",
    "        elif com == 'ads':\n",
    "            num_table(com)\n",
    "        elif com == 'ds':\n",
    "            num_table(com)\n",
    "            \n",
    "def num_doc(com):\n",
    "    print ('Введите номер документа: ')\n",
    "    nd=str(input())\n",
    "    if com == 'p':\n",
    "        print (name_by_doc(nd))\n",
    "    elif com == 's':\n",
    "        print (table_by_doc(nd))\n",
    "                  \n",
    "def name_by_doc(nd):\n",
    "    name=''\n",
    "    for i in documents:\n",
    "        if i.get('number')==nd:\n",
    "            name=i.get('name')\n",
    "    if name=='':\n",
    "        result = 'Документ не найденн в базе'\n",
    "    else:\n",
    "        result='Владелец документа:'+ str(name)\n",
    "    return result\n",
    "#пункт 2\n",
    "def table_by_doc(nd):\n",
    "    table=''\n",
    "    for i in directories.keys():\n",
    "        if nd in directories[str(i)]:\n",
    "            table=i\n",
    "    if table == '':\n",
    "        result = 'Документ не найден в базе'\n",
    "    else:\n",
    "        result = 'Документ лежит на полке: '+str(table)\n",
    "    return result\n",
    "\n",
    "#пункт 3\n",
    "def info_all():\n",
    "    for i in documents:\n",
    "        print('№:{}, тип:{}, владелец: {}, полка хранения: {}'.format(str(i.get('number')), str(i.get('type')), str(i.get('name')),\n",
    "                                                                     table_by_doc(i.get('number')).replace('Документ лежит на полке: ','')))\n",
    "#пункт 4\n",
    "def num_table(com):\n",
    "    print ('Введите номер полки')\n",
    "    nt=str(input())\n",
    "    if com=='ads':\n",
    "        print (table_add(nt))\n",
    "    elif com == 'ds':\n",
    "        print (table_del(nt))\n",
    "\n",
    "def table_add(nt):\n",
    "    if nt not in list(directories.keys()):\n",
    "        directories[nt]=[]\n",
    "        result = 'Полка добавлена. Текущий перечень полок: {}.'.format(','.join(list(directories.keys())))\n",
    "    else:\n",
    "        result = 'Такая полка уже существует. Текущий перечень полок: {}.'.format(','.join(list(directories.keys())))\n",
    "    return result\n",
    "#пункт 5\n",
    "def table_del(nt):\n",
    "    if nt not in list(directories.keys()):\n",
    "        result = 'Такой полки не существует. Текущий перечень полок: {}.'.format(','.join(list(directories.keys())))\n",
    "    elif len(directories[nt]) !=0:\n",
    "        result = 'На полке есть документы, удалите их перед удалением полки.Текущий перечень полок: {}.'.format(','.join(list(directories.keys())))\n",
    "    else:\n",
    "        del directories[nt]\n",
    "        result = 'Полка удалена.Текущий перечень полок {}.'.format(','.join(list(directories.keys())))\n",
    "    return result\n",
    "\n",
    "dialog()"
   ]
  },
  {
   "cell_type": "code",
   "execution_count": null,
   "id": "647b582e",
   "metadata": {},
   "outputs": [],
   "source": [
    "dialog()"
   ]
  },
  {
   "cell_type": "code",
   "execution_count": null,
   "id": "d781b341",
   "metadata": {},
   "outputs": [],
   "source": [
    "x"
   ]
  },
  {
   "cell_type": "code",
   "execution_count": null,
   "id": "886d73b7",
   "metadata": {},
   "outputs": [],
   "source": []
  },
  {
   "cell_type": "code",
   "execution_count": null,
   "id": "c5f59bfc",
   "metadata": {},
   "outputs": [],
   "source": []
  }
 ],
 "metadata": {
  "kernelspec": {
   "display_name": "Python 3",
   "language": "python",
   "name": "python3"
  },
  "language_info": {
   "codemirror_mode": {
    "name": "ipython",
    "version": 3
   },
   "file_extension": ".py",
   "mimetype": "text/x-python",
   "name": "python",
   "nbconvert_exporter": "python",
   "pygments_lexer": "ipython3",
   "version": "3.8.8"
  }
 },
 "nbformat": 4,
 "nbformat_minor": 5
}
