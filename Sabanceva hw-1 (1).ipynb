{
 "cells": [
  {
   "cell_type": "code",
   "execution_count": 1,
   "id": "30a95291",
   "metadata": {},
   "outputs": [
    {
     "name": "stdout",
     "output_type": "stream",
     "text": [
      "Введите день: 4\n",
      "Введите месяц: 5\n",
      "Знак зодиака:Телец\n"
     ]
    }
   ],
   "source": [
    "#Задача 3\n",
    "date = int(input('Введите день: '))\n",
    "month = int(input('Введите месяц: '))\n",
    "if (date>=21 and date<=31 and month==1) or( month==2 and date>=1 and date<=18):\n",
    "   print(\"Знак зодиака:Водолей\")\n",
    "elif (date>=19 and date<=29 and month==2) or( month==3 and date>=1 and date<=20):\n",
    "   print(\"Знак зодиака:Рыбы\")\n",
    "elif (date>=21 and date<=31 and month==3) or( month==4 and date>=1 and date<=19):\n",
    "   print(\"Знак зодиака:Овен\")\n",
    "elif (date>=20 and date<=30 and month==4) or( month==5 and date>=1 and date<=20):\n",
    "   print(\"Знак зодиака:Телец\")\n",
    "elif (date>=21 and date<=31 and month==5) or( month==6 and date>=1 and date<=21):\n",
    "   print(\"Знак зодиака:Близнецы\")\n",
    "elif (date>=22 and date<=30 and month==6) or( month==7 and date>=1 and date<=22):\n",
    "   print(\"Знак зодиака:Рак\")\n",
    "elif (date>=23 and date<=31 and month==7) or( month==8 and date>=1 and date<=22):\n",
    "   print(\"Знак зодиака:Лев\")\n",
    "elif (date>=23 and date<=31 and month==8) or( month==9 and date>=1 and date<=22):\n",
    "   print(\"Знак зодиака:Дева\")\n",
    "elif (date>=23 and date<=30 and month==9) or( month==10 and date>=1 and date<=23):\n",
    "   print(\"Знак зодиака:Весы\")\n",
    "elif (date>=24 and date<=31 and month==10) or( month==11 and date>=1 and date<=22):\n",
    "   print(\"Знак зодиака:Скорпион\")\n",
    "elif (date>=23 and date<=30 and month==11) or( month==12 and date>=1 and date<=21):\n",
    "   print(\"Знак зодиака:Стрелец\")\n",
    "elif (date>=22 and date<=31 and month==12) or( month==1 and date>=1 and date<=20):\n",
    "   print(\"Знак зодиака:Козерог\")"
   ]
  },
  {
   "cell_type": "code",
   "execution_count": 3,
   "id": "e764a2fa",
   "metadata": {},
   "outputs": [
    {
     "name": "stdout",
     "output_type": "stream",
     "text": [
      "Обычный год\n"
     ]
    }
   ],
   "source": [
    "#Задача 2\n",
    "year = 2019\n",
    "if year % 4 == 0 and year % 100 !=0 or year % 400 == 0:\n",
    "    print ('Високосный год')\n",
    "else: \n",
    "    print ('Обычный год')"
   ]
  },
  {
   "cell_type": "code",
   "execution_count": 20,
   "id": "e1eb1cb6",
   "metadata": {},
   "outputs": [
    {
     "name": "stdout",
     "output_type": "stream",
     "text": [
      "Стандартная коробка №3\n"
     ]
    }
   ],
   "source": [
    "#Задача 4\n",
    "width = 15\n",
    "length = 50\n",
    "height = 15\n",
    "if width < 15 and length < 15 and height < 15:\n",
    "   print ('Коробка 1')\n",
    "elif 50 > width > 15 or 50 > length > 15 or 50 > height > 15:\n",
    "   print ('Коробка №2')\n",
    "elif length > 200:\n",
    "   print ('Упаковка для лыж')\n",
    "else: \n",
    "   print ('Стандартная коробка №3')"
   ]
  },
  {
   "cell_type": "code",
   "execution_count": 3,
   "id": "512bdc1d",
   "metadata": {},
   "outputs": [
    {
     "name": "stdout",
     "output_type": "stream",
     "text": [
      "Фраза 1 длиннее фразы 2\n"
     ]
    }
   ],
   "source": [
    "phrase_1 = 'Насколько проще было бы писать программы, если бы не заказчики'\n",
    "phrase_2 = '640Кб должно хватить для любых задач. Билл Гейтс (по легенде)'\n",
    "if len(phrase_1) > len(phrase_2):\n",
    "    print('Фраза 1 длиннее фразы 2')\n",
    "elif len(phrase_1) < len(phrase_2):\n",
    "    print('Фраза 2 длиннее фразы 1')\n",
    "else:\n",
    "    print('Фразы равной длины')"
   ]
  },
  {
   "cell_type": "code",
   "execution_count": null,
   "id": "82132329",
   "metadata": {},
   "outputs": [],
   "source": []
  }
 ],
 "metadata": {
  "kernelspec": {
   "display_name": "Python 3",
   "language": "python",
   "name": "python3"
  },
  "language_info": {
   "codemirror_mode": {
    "name": "ipython",
    "version": 3
   },
   "file_extension": ".py",
   "mimetype": "text/x-python",
   "name": "python",
   "nbconvert_exporter": "python",
   "pygments_lexer": "ipython3",
   "version": "3.8.8"
  }
 },
 "nbformat": 4,
 "nbformat_minor": 5
}
