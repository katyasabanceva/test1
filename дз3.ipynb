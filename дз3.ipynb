{
 "cells": [
  {
   "cell_type": "code",
   "execution_count": 1,
   "id": "3ea2d9f6",
   "metadata": {},
   "outputs": [
    {
     "name": "stdout",
     "output_type": "stream",
     "text": [
      "3 4\n",
      "7\n",
      "Поисковых запросов, содержащих 2 слов: 42.86 %\n",
      "Поисковых запросов, содержащих 3 слов: 57.14 %\n"
     ]
    }
   ],
   "source": [
    "#Задание 2\n",
    "queries = [\n",
    "'смотреть сериалы онлайн',\n",
    "'новости спорта',\n",
    "'афиша кино',\n",
    "'курс доллара',\n",
    "'сериалы этим летом',\n",
    "'курс по питону',\n",
    "'сериалы про спорт',\n",
    "]\n",
    "sum_2_words = 0\n",
    "sum_3_words = 0\n",
    "for query in queries:\n",
    "    if len(query.split()) == 2:\n",
    "        sum_2_words += 1\n",
    "    else:\n",
    "        sum_3_words += 1\n",
    "print (sum_2_words, sum_3_words)\n",
    "print (len(queries))\n",
    "print ('Поисковых запросов, содержащих 2 слов:', round((sum_2_words/(len(queries)))*100,2), '%')\n",
    "print ('Поисковых запросов, содержащих 3 слов:', round((sum_3_words/(len(queries)))*100,2), '%')"
   ]
  },
  {
   "cell_type": "code",
   "execution_count": 2,
   "id": "8c483f05",
   "metadata": {},
   "outputs": [
    {
     "data": {
      "text/plain": [
       "{15, 35, 54, 98, 119, 213}"
      ]
     },
     "execution_count": 2,
     "metadata": {},
     "output_type": "execute_result"
    }
   ],
   "source": [
    "#Задание1\n",
    "ids = {'user1': [213, 213, 213, 15, 213],\n",
    "'user2': [54, 54, 119, 119, 119],\n",
    "'user3': [213, 98, 98, 35]}\n",
    "\n",
    "from itertools import chain\n",
    "myList=list(ids.values())\n",
    "set(list(chain.from_iterable(myList)))\n"
   ]
  },
  {
   "cell_type": "code",
   "execution_count": 4,
   "id": "b80209ef",
   "metadata": {},
   "outputs": [
    {
     "name": "stdout",
     "output_type": "stream",
     "text": [
      "{'facebook': 55, 'yandex': 115, 'vk': 120, 'google': 99, 'email': 42, 'ok': 98}\n",
      "['facebook', 'yandex', 'vk', 'google', 'email', 'ok']\n",
      "[55, 115, 120, 99, 42, 98]\n"
     ]
    }
   ],
   "source": [
    "\n"
   ]
  },
  {
   "cell_type": "code",
   "execution_count": 12,
   "id": "92b78152",
   "metadata": {},
   "outputs": [
    {
     "name": "stdout",
     "output_type": "stream",
     "text": [
      "vk\n"
     ]
    }
   ],
   "source": [
    "#Задание 4\n",
    "stats = {'facebook': 55, 'yandex': 115, 'vk': 120, 'google': 99, 'email': 42, 'ok': 98}\n",
    "import operator\n",
    "print (max(stats.items(),key=operator.itemgetter(1))[0])"
   ]
  },
  {
   "cell_type": "code",
   "execution_count": null,
   "id": "11883415",
   "metadata": {},
   "outputs": [],
   "source": []
  }
 ],
 "metadata": {
  "kernelspec": {
   "display_name": "Python 3",
   "language": "python",
   "name": "python3"
  },
  "language_info": {
   "codemirror_mode": {
    "name": "ipython",
    "version": 3
   },
   "file_extension": ".py",
   "mimetype": "text/x-python",
   "name": "python",
   "nbconvert_exporter": "python",
   "pygments_lexer": "ipython3",
   "version": "3.8.8"
  }
 },
 "nbformat": 4,
 "nbformat_minor": 5
}
