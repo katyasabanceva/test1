{
 "cells": [
  {
   "cell_type": "code",
   "execution_count": 22,
   "id": "24b052ea",
   "metadata": {},
   "outputs": [],
   "source": [
    "import numpy as np"
   ]
  },
  {
   "cell_type": "code",
   "execution_count": 19,
   "id": "89722ab8",
   "metadata": {},
   "outputs": [
    {
     "name": "stdout",
     "output_type": "stream",
     "text": [
      "5\n",
      "[4, 3, 2, 1, 0]\n"
     ]
    }
   ],
   "source": [
    "#Задача 1\n",
    "N=int(input())\n",
    "a = np.arange(0, N)\n",
    "print(list(reversed(a)))"
   ]
  },
  {
   "cell_type": "code",
   "execution_count": null,
   "id": "d8967293",
   "metadata": {},
   "outputs": [],
   "source": []
  },
  {
   "cell_type": "code",
   "execution_count": 21,
   "id": "1b22518a",
   "metadata": {},
   "outputs": [
    {
     "name": "stdout",
     "output_type": "stream",
     "text": [
      "3\n",
      "сумма: 6\n",
      "[[3 0 0]\n",
      " [0 2 0]\n",
      " [0 0 1]]\n"
     ]
    }
   ],
   "source": [
    "#Задача 2\n",
    "N=int(input())\n",
    "matrix=np.diag(np.arange(N,0,-1))\n",
    "summ=0\n",
    "for line in matrix:\n",
    "    for j in line:\n",
    "        summ+=j\n",
    "print('сумма: {}'.format(summ))\n",
    "print (matrix)"
   ]
  },
  {
   "cell_type": "code",
   "execution_count": 25,
   "id": "d00d7c11",
   "metadata": {},
   "outputs": [],
   "source": [
    "#Задача 3\n",
    "#4x + 2y + z = 4\n",
    "#x + 3y = 12\n",
    "#5y + 4z = -3\n",
    "\n",
    "a = np.array( [ [4, 2, 1], [1, 3, 0], [0, 5, 4]] )\n",
    "b = np.array( [4, 12, -3] )"
   ]
  },
  {
   "cell_type": "code",
   "execution_count": 26,
   "id": "a5b4f9f3",
   "metadata": {},
   "outputs": [],
   "source": [
    "from numpy import linalg"
   ]
  },
  {
   "cell_type": "code",
   "execution_count": 28,
   "id": "f6c90070",
   "metadata": {},
   "outputs": [
    {
     "data": {
      "text/plain": [
       "array([ 0.46666667,  3.84444444, -5.55555556])"
      ]
     },
     "execution_count": 28,
     "metadata": {},
     "output_type": "execute_result"
    }
   ],
   "source": [
    "linalg.solve(a, b)"
   ]
  },
  {
   "cell_type": "code",
   "execution_count": 29,
   "id": "a905ca32",
   "metadata": {},
   "outputs": [
    {
     "data": {
      "text/plain": [
       "True"
      ]
     },
     "execution_count": 29,
     "metadata": {},
     "output_type": "execute_result"
    }
   ],
   "source": [
    "np.allclose( np.dot(a, linalg.solve(a, b)), b )"
   ]
  },
  {
   "cell_type": "code",
   "execution_count": 30,
   "id": "ddb2c6ad",
   "metadata": {},
   "outputs": [],
   "source": [
    "#Задача 4\n",
    "users_stats = np.array(\n",
    "    [\n",
    "        [2, 1, 0, 0, 0, 0],\n",
    "        [1, 1, 2, 1, 0, 0],\n",
    "        [2, 0, 1, 0, 0, 0],\n",
    "        [1, 1, 2, 1, 0, 1],\n",
    "        [0, 0, 1, 2, 0, 0],\n",
    "        [0, 0, 0, 0, 0, 5],\n",
    "        [1, 0, 0, 0, 0, 0],\n",
    "        [0, 1, 1, 0, 0, 0],\n",
    "        [0, 0, 0, 1, 1, 3],\n",
    "        [1, 0, 0, 2, 1, 4]\n",
    "    ], \n",
    "    np.int32\n",
    ")"
   ]
  },
  {
   "cell_type": "code",
   "execution_count": 31,
   "id": "73f55a4c",
   "metadata": {},
   "outputs": [],
   "source": [
    "next_user_stats = np.array([0, 1, 2, 0, 0, 0])"
   ]
  },
  {
   "cell_type": "code",
   "execution_count": 33,
   "id": "e066b500",
   "metadata": {},
   "outputs": [
    {
     "name": "stderr",
     "output_type": "stream",
     "text": [
      "Matplotlib is building the font cache; this may take a moment.\n"
     ]
    }
   ],
   "source": [
    "import matplotlib.pyplot as plt"
   ]
  },
  {
   "cell_type": "code",
   "execution_count": 34,
   "id": "5b406e79",
   "metadata": {},
   "outputs": [],
   "source": [
    "def cosine( users_stats, next_user_stats ):\n",
    "    \"\"\"\n",
    "    Подсчет косинуса угла между векторами a, b по их координатам\n",
    "    \"\"\"\n",
    "    \n",
    "    # длины векторов\n",
    "    users_statsLength = np.linalg.norm( users_stats )\n",
    "    next_user_statsLength = np.linalg.norm( next_user_stats )\n",
    "    \n",
    "    return np.dot( users_stats, next_user_stats ) / ( users_statsLength * next_user_statsLength )"
   ]
  },
  {
   "cell_type": "code",
   "execution_count": 54,
   "id": "6cb7120f",
   "metadata": {},
   "outputs": [
    {
     "data": {
      "text/plain": [
       "array([0.2       , 0.84515425, 0.4       , 0.79056942, 0.4       ,\n",
       "       0.        , 0.        , 0.9486833 , 0.        , 0.        ])"
      ]
     },
     "execution_count": 54,
     "metadata": {},
     "output_type": "execute_result"
    }
   ],
   "source": [
    "cosinus = np.array([cosine(line, next_user_stats) for line in users_stats])\n",
    "cosinus"
   ]
  },
  {
   "cell_type": "code",
   "execution_count": 53,
   "id": "c04ee146",
   "metadata": {},
   "outputs": [
    {
     "name": "stdout",
     "output_type": "stream",
     "text": [
      "Самый похожий пользователь c Id:  8\n"
     ]
    }
   ],
   "source": [
    "best_user = np.argmax(cosinus)\n",
    "print ('Самый похожий пользователь c Id: ', best_user+1)"
   ]
  },
  {
   "cell_type": "code",
   "execution_count": null,
   "id": "686a0b15",
   "metadata": {},
   "outputs": [],
   "source": []
  }
 ],
 "metadata": {
  "kernelspec": {
   "display_name": "Python 3",
   "language": "python",
   "name": "python3"
  },
  "language_info": {
   "codemirror_mode": {
    "name": "ipython",
    "version": 3
   },
   "file_extension": ".py",
   "mimetype": "text/x-python",
   "name": "python",
   "nbconvert_exporter": "python",
   "pygments_lexer": "ipython3",
   "version": "3.8.8"
  }
 },
 "nbformat": 4,
 "nbformat_minor": 5
}
