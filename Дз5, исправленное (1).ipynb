{
 "cells": [
  {
   "cell_type": "code",
   "execution_count": null,
   "id": "b2bb114f",
   "metadata": {},
   "outputs": [],
   "source": [
    "#1\n",
    "with open (r'C:\\Users\\Dmitry\\Desktop\\курс питон\\purchase_log.txt', 'r', encoding = 'utf-8') as f:\n",
    "    with open (\"purchases.txt\", \"w\", encoding = \"utf-8\") as ff:\n",
    "        import json\n",
    "        d = {}\n",
    "        for line in f:\n",
    "            line = line.strip()\n",
    "            f2 = json.loads(line)\n",
    "            key = f2['user_id']\n",
    "            value = f2['category']\n",
    "            ff.write(f\"{key} : {value}\\n\")\n",
    "            dct = dict({f2['user_id']: f2['category']})\n",
    "            for i,y in dct.items ():\n",
    "                d[y]=i\n",
    "        #print (d)\n",
    "            \n",
    "#2\n",
    "with open(r'C:\\Users\\Dmitry\\Desktop\\курс питон\\visit_log.csv', 'r', encoding = 'utf-8') as f4:\n",
    "    with open(\"funne.csv\", \"w\", encoding = \"utf-8\") as f5:\n",
    "        for line in f4:\n",
    "            m = line.strip().split(\",\")\n",
    "            #print(line)\n",
    "            #print (m)\n",
    "            category = d.get(m[0])\n",
    "            if category != None:\n",
    "                f5.write( f\"{user_id}, {category}, {source},\\n\")\n",
    "            #print (category)"
   ]
  },
  {
   "cell_type": "code",
   "execution_count": null,
   "id": "04d921f1",
   "metadata": {},
   "outputs": [],
   "source": []
  },
  {
   "cell_type": "code",
   "execution_count": null,
   "id": "325f2040",
   "metadata": {},
   "outputs": [],
   "source": []
  },
  {
   "cell_type": "code",
   "execution_count": null,
   "id": "858190f8",
   "metadata": {},
   "outputs": [],
   "source": []
  }
 ],
 "metadata": {
  "kernelspec": {
   "display_name": "Python 3",
   "language": "python",
   "name": "python3"
  },
  "language_info": {
   "codemirror_mode": {
    "name": "ipython",
    "version": 3
   },
   "file_extension": ".py",
   "mimetype": "text/x-python",
   "name": "python",
   "nbconvert_exporter": "python",
   "pygments_lexer": "ipython3",
   "version": "3.8.8"
  }
 },
 "nbformat": 4,
 "nbformat_minor": 5
}
