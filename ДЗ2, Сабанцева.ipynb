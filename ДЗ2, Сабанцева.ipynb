{
 "cells": [
  {
   "cell_type": "code",
   "execution_count": 27,
   "id": "3ea72b7c",
   "metadata": {},
   "outputs": [
    {
     "name": "stdout",
     "output_type": "stream",
     "text": [
      "Введите число:1\n",
      "Введите число:2\n",
      "Введите число:4\n",
      "Введите число:0\n",
      "Результат: 7\n"
     ]
    }
   ],
   "source": [
    "#Задача 2\n",
    "sum=0\n",
    "while True:\n",
    "    chislo = int (input('Введите число:'))\n",
    "    if chislo ==0:\n",
    "        break\n",
    "    else:\n",
    "        sum +=chislo\n",
    "print('Результат:',sum)"
   ]
  },
  {
   "cell_type": "code",
   "execution_count": 26,
   "id": "7cc722d2",
   "metadata": {},
   "outputs": [
    {
     "name": "stdout",
     "output_type": "stream",
     "text": [
      "Введите слово:takes\n",
      "k\n"
     ]
    }
   ],
   "source": [
    "#Задача 1\n",
    "word = input ('Введите слово:')\n",
    "str1=len(word)\n",
    "symbol = str1/2\n",
    "if str1 % 2 == 0:\n",
    "    print (word[int(symbol)-1:int(symbol)+1])\n",
    "elif str1 % 2 !=0:\n",
    "    print(word[int(symbol)])"
   ]
  },
  {
   "cell_type": "code",
   "execution_count": 76,
   "id": "76c5319f",
   "metadata": {},
   "outputs": [
    {
     "name": "stdout",
     "output_type": "stream",
     "text": [
      "Идеальные пары: \n",
      "Alex и Emma\n",
      "Arthur и Kate\n",
      "John и Kira\n",
      "Peter и Liza\n",
      "Richard и Trisha\n"
     ]
    }
   ],
   "source": [
    "#Задача 3\n",
    "boys = ['Peter', 'Alex', 'John', 'Arthur', 'Richard']\n",
    "girls = ['Kate', 'Liza', 'Kira', 'Emma', 'Trisha']\n",
    "     \n",
    "if len(boys)==len(girls):\n",
    "    boys.sort()\n",
    "    girls.sort()\n",
    "    \n",
    "    ideal=zip(boys,girls)\n",
    "    print ('Идеальные пары: ')\n",
    "    for boy,girl in ideal:\n",
    "        print (f'{boy} и {girl}')\n",
    "else:\n",
    "    print ('Предупреждение!Кто-то может остаться без пары!')\n",
    "    \n",
    "        \n",
    "\n",
    "    \n",
    "\n",
    "\n"
   ]
  },
  {
   "cell_type": "code",
   "execution_count": 88,
   "id": "ba9b2521",
   "metadata": {},
   "outputs": [
    {
     "name": "stdout",
     "output_type": "stream",
     "text": [
      "Thailand - 23.9 C\n",
      "Germany - 13.8 C\n",
      "Russia - 3.7 C\n",
      "Poland - 12.0 C\n"
     ]
    }
   ],
   "source": [
    "#Задача 4\n",
    "from statistics import mean\n",
    "countries_temperature = [\n",
    "['Thailand', [75.2, 77, 78.8, 73.4, 68, 75.2, 77]],\n",
    "['Germany', [57.2, 55.4, 59, 59, 53.6]],\n",
    "['Russia', [35.6, 37.4, 39.2, 41, 42.8, 39.2, 35.6]],\n",
    "['Poland', [50, 50, 53.6, 57.2, 55.4, 55.4]]\n",
    "]\n",
    "for i in countries_temperature:\n",
    "    print(i[0], '-', round(((mean(i[1])-32)/1.8),1) , 'C')"
   ]
  },
  {
   "cell_type": "code",
   "execution_count": null,
   "id": "b39bfbbc",
   "metadata": {},
   "outputs": [],
   "source": []
  }
 ],
 "metadata": {
  "kernelspec": {
   "display_name": "Python 3",
   "language": "python",
   "name": "python3"
  },
  "language_info": {
   "codemirror_mode": {
    "name": "ipython",
    "version": 3
   },
   "file_extension": ".py",
   "mimetype": "text/x-python",
   "name": "python",
   "nbconvert_exporter": "python",
   "pygments_lexer": "ipython3",
   "version": "3.8.8"
  }
 },
 "nbformat": 4,
 "nbformat_minor": 5
}
